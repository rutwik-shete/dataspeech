{
 "cells": [
  {
   "cell_type": "code",
   "execution_count": 17,
   "metadata": {},
   "outputs": [],
   "source": [
    "from datasets import load_dataset,Audio\n",
    "\n",
    "import pandas as pd\n",
    "import numpy as np"
   ]
  },
  {
   "cell_type": "code",
   "execution_count": 35,
   "metadata": {},
   "outputs": [],
   "source": [
    "import pandas as pd\n",
    "\n",
    "# For Test\n",
    "file_path = '/Users/rutwikshete/Desktop/Codeing/TeeOff/POC/HindiDataset/test/transcription.txt'  # Replace with your actual file path\n",
    "save_path = '/Users/rutwikshete/Desktop/Codeing/TeeOff/POC/HindiDataset/test/audio/metadata.csv'\n",
    "prefix = \"/Users/rutwikshete/Desktop/Codeing/TeeOff/POC/HindiDataset/test/audio/\"\n",
    "\n",
    "# For Train\n",
    "# file_path = '/Users/rutwikshete/Desktop/Codeing/TeeOff/POC/HindiDataset/train/transcription.txt'  # Replace with your actual file path\n",
    "# save_path = '/Users/rutwikshete/Desktop/Codeing/TeeOff/POC/HindiDataset/train/audio/metadata.csv'\n",
    "# prefix = \"/Users/rutwikshete/Desktop/Codeing/TeeOff/POC/HindiDataset/train/audio/\"\n",
    "\n",
    "with open(file_path, 'r', encoding='utf-8') as file:\n",
    "    lines = file.readlines()\n",
    "\n",
    "# Step 2: Process each line and split into ID and text\n",
    "data = []\n",
    "for line in lines:\n",
    "    # Strip leading/trailing whitespace\n",
    "    line = line.strip()\n",
    "    \n",
    "    # Split each line at the first space\n",
    "    id_, text = line.split(' ', 1)  # Splits into id and rest of the text\n",
    "    text_id,speaker_id = id_.split(\"_\")\n",
    "    # Append to the data list\n",
    "    data.append([prefix+id_+\".wav\",text_id,speaker_id, text])\n",
    "\n",
    "# Step 3: Create a DataFrame\n",
    "df = pd.DataFrame(data, columns=['file_name','text_id','speaker_id', 'transcription'])\n",
    "\n",
    "# Step 4: Show the DataFrame\n",
    "\n",
    "df.to_csv(save_path,index=False)"
   ]
  },
  {
   "cell_type": "markdown",
   "metadata": {},
   "source": [
    "## Loading the Audio Dataset"
   ]
  },
  {
   "cell_type": "code",
   "execution_count": 36,
   "metadata": {},
   "outputs": [
    {
     "name": "stderr",
     "output_type": "stream",
     "text": [
      "Generating train split: 99925 examples [00:00, 545695.31 examples/s]\n",
      "Generating test split: 3843 examples [00:00, 348151.33 examples/s]\n",
      "Map: 100%|██████████| 99925/99925 [00:02<00:00, 45274.51 examples/s]\n",
      "Map: 100%|██████████| 3843/3843 [00:00<00:00, 47692.44 examples/s]\n"
     ]
    }
   ],
   "source": [
    "hindi_dataset = load_dataset(\"csv\",data_files={\n",
    "    'train': '/Users/rutwikshete/Desktop/Codeing/TeeOff/POC/HindiDataset/train/audio/metadata.csv',\n",
    "    'test' : '/Users/rutwikshete/Desktop/Codeing/TeeOff/POC/HindiDataset/test/audio/metadata.csv'\n",
    "})\n",
    "\n",
    "hindi_dataset = hindi_dataset.map(lambda batch: {'audio': batch['file_name']}, batched=False)\n",
    "\n",
    "# Step 3: Cast the new 'audio' column to the Audio feature type\n",
    "hindi_dataset = hindi_dataset.cast_column('audio', Audio())"
   ]
  },
  {
   "cell_type": "code",
   "execution_count": 39,
   "metadata": {},
   "outputs": [
    {
     "name": "stderr",
     "output_type": "stream",
     "text": [
      "Map: 100%|██████████| 9993/9993 [00:03<00:00, 3092.25 examples/s]/s]\n",
      "Creating parquet from Arrow format: 100%|██████████| 100/100 [00:00<00:00, 274.56ba/s]\n",
      "Map: 100%|██████████| 9993/9993 [00:02<00:00, 3359.31 examples/s] 43.50s/it]\n",
      "Creating parquet from Arrow format: 100%|██████████| 100/100 [00:00<00:00, 262.39ba/s]\n",
      "Map: 100%|██████████| 9993/9993 [00:02<00:00, 3665.52 examples/s] 43.24s/it]\n",
      "Creating parquet from Arrow format: 100%|██████████| 100/100 [00:00<00:00, 294.23ba/s]\n",
      "Map: 100%|██████████| 9993/9993 [00:02<00:00, 3990.84 examples/s] 41.62s/it]\n",
      "Creating parquet from Arrow format: 100%|██████████| 100/100 [00:00<00:00, 302.05ba/s]\n",
      "Map: 100%|██████████| 9993/9993 [00:02<00:00, 4260.97 examples/s] 40.49s/it]\n",
      "Creating parquet from Arrow format: 100%|██████████| 100/100 [00:00<00:00, 295.77ba/s]\n",
      "Map: 100%|██████████| 9992/9992 [00:02<00:00, 4269.87 examples/s] 38.56s/it]\n",
      "Creating parquet from Arrow format: 100%|██████████| 100/100 [00:00<00:00, 303.08ba/s]\n",
      "Map: 100%|██████████| 9992/9992 [00:02<00:00, 4255.62 examples/s] 37.36s/it]\n",
      "Creating parquet from Arrow format: 100%|██████████| 100/100 [00:00<00:00, 318.38ba/s]\n",
      "Map: 100%|██████████| 9992/9992 [00:02<00:00, 4115.05 examples/s] 37.02s/it]\n",
      "Creating parquet from Arrow format: 100%|██████████| 100/100 [00:00<00:00, 322.52ba/s]\n",
      "Map: 100%|██████████| 9992/9992 [00:02<00:00, 4327.60 examples/s] 36.89s/it]\n",
      "Creating parquet from Arrow format: 100%|██████████| 100/100 [00:00<00:00, 358.06ba/s]\n",
      "Map: 100%|██████████| 9992/9992 [00:02<00:00, 4285.38 examples/s] 34.62s/it]\n",
      "Creating parquet from Arrow format: 100%|██████████| 100/100 [00:00<00:00, 362.06ba/s]\n",
      "Uploading the dataset shards: 100%|██████████| 10/10 [06:06<00:00, 36.68s/it]\n",
      "Map: 100%|██████████| 3843/3843 [00:01<00:00, 3588.78 examples/s]s]\n",
      "Creating parquet from Arrow format: 100%|██████████| 39/39 [00:00<00:00, 239.30ba/s]\n",
      "Uploading the dataset shards: 100%|██████████| 1/1 [00:18<00:00, 18.91s/it]\n"
     ]
    },
    {
     "data": {
      "text/plain": [
       "CommitInfo(commit_url='https://huggingface.co/datasets/RutwikShete/hindi_dataset/commit/882441677ed35565af5b68dcecd958cabfed7cf4', commit_message='Upload dataset', commit_description='', oid='882441677ed35565af5b68dcecd958cabfed7cf4', pr_url=None, pr_revision=None, pr_num=None)"
      ]
     },
     "execution_count": 39,
     "metadata": {},
     "output_type": "execute_result"
    }
   ],
   "source": [
    "hindi_dataset.push_to_hub(\"RutwikShete/hindi_dataset\")"
   ]
  },
  {
   "cell_type": "code",
   "execution_count": 13,
   "metadata": {},
   "outputs": [
    {
     "name": "stderr",
     "output_type": "stream",
     "text": [
      "Map: 100%|██████████| 9/9 [00:00<00:00, 1191.41 examples/s], ?it/s]\n",
      "Creating parquet from Arrow format: 100%|██████████| 1/1 [00:00<00:00, 324.26ba/s]\n",
      "Uploading the dataset shards: 100%|██████████| 1/1 [00:02<00:00,  2.83s/it]\n",
      "Map: 100%|██████████| 3/3 [00:00<00:00, 430.05 examples/s]?, ?it/s]\n",
      "Creating parquet from Arrow format: 100%|██████████| 1/1 [00:00<00:00, 599.53ba/s]\n",
      "Uploading the dataset shards: 100%|██████████| 1/1 [00:01<00:00,  1.90s/it]\n"
     ]
    },
    {
     "data": {
      "text/plain": [
       "CommitInfo(commit_url='https://huggingface.co/datasets/RutwikShete/hindi_dataset_small/commit/e575f8938672906b4f7f6cd1f53245e8fbfcfdfb', commit_message='Upload dataset', commit_description='', oid='e575f8938672906b4f7f6cd1f53245e8fbfcfdfb', pr_url=None, pr_revision=None, pr_num=None)"
      ]
     },
     "execution_count": 13,
     "metadata": {},
     "output_type": "execute_result"
    }
   ],
   "source": [
    "from datasets import load_dataset,Audio,DatasetDict\n",
    "\n",
    "hindi_dataset = load_dataset(\"csv\",data_files={\n",
    "    'train': '/Users/rutwikshete/Desktop/Codeing/TeeOff/POC/HindiDataset/train/audio/metadata.csv',\n",
    "    'test' : '/Users/rutwikshete/Desktop/Codeing/TeeOff/POC/HindiDataset/test/audio/metadata.csv'\n",
    "})\n",
    "\n",
    "hindi_dataset = hindi_dataset.map(lambda batch: {'audio': batch['file_name']}, batched=False)\n",
    "\n",
    "# Step 3: Cast the new 'audio' column to the Audio feature type\n",
    "hindi_dataset = hindi_dataset.cast_column('audio', Audio())\n",
    "\n",
    "train_subset = hindi_dataset['train'].select(range(int(0.0001 * len(hindi_dataset['train']))))\n",
    "test_subset = hindi_dataset['test'].select(range(int(0.001 * len(hindi_dataset['test']))))\n",
    "\n",
    "small_dataset = {\n",
    "    'train' : train_subset,\n",
    "    'test' : test_subset\n",
    "}\n",
    "\n",
    "small_dataset = DatasetDict(small_dataset)\n",
    "\n",
    "small_dataset.push_to_hub(\"RutwikShete/hindi_dataset_small\")"
   ]
  },
  {
   "cell_type": "code",
   "execution_count": 12,
   "metadata": {},
   "outputs": [
    {
     "data": {
      "text/plain": [
       "9"
      ]
     },
     "execution_count": 12,
     "metadata": {},
     "output_type": "execute_result"
    }
   ],
   "source": [
    "len(train_subset)"
   ]
  },
  {
   "cell_type": "code",
   "execution_count": 32,
   "metadata": {},
   "outputs": [
    {
     "name": "stderr",
     "output_type": "stream",
     "text": [
      "Map: 100%|██████████| 99925/99925 [00:08<00:00, 11910.30 examples/s]\n",
      "Map: 100%|██████████| 3843/3843 [00:00<00:00, 11397.24 examples/s]\n"
     ]
    }
   ],
   "source": [
    "from datasets import load_dataset\n",
    "\n",
    "# Step 1: Load the dataset (replace 'your_dataset' with the actual dataset)\n",
    "dataset = load_dataset('RutwikShete/hindi_dataset')\n",
    "\n",
    "# Step 2: Define a function to create the 'accent' column\n",
    "def add_accent_column(example):\n",
    "    # Combine 'gender' and 'speaker_id' into a new column 'accent'\n",
    "    example['accent'] = f\"Accent_{example['speaker_id']}\"\n",
    "    # example['accent'] = f\"_{example['speaker_id']}\"\n",
    "    return example\n",
    "\n",
    "# Step 3: Apply the function to the dataset using map()\n",
    "dataset = dataset.map(add_accent_column)"
   ]
  },
  {
   "cell_type": "code",
   "execution_count": 33,
   "metadata": {},
   "outputs": [
    {
     "data": {
      "text/plain": [
       "59"
      ]
     },
     "execution_count": 33,
     "metadata": {},
     "output_type": "execute_result"
    }
   ],
   "source": [
    "from collections import Counter\n",
    "\n",
    "uni_cnt = Counter(dataset['train']['accent'])\n",
    "\n",
    "len(uni_cnt)"
   ]
  },
  {
   "cell_type": "code",
   "execution_count": 34,
   "metadata": {},
   "outputs": [
    {
     "data": {
      "text/plain": [
       "59"
      ]
     },
     "execution_count": 34,
     "metadata": {},
     "output_type": "execute_result"
    }
   ],
   "source": [
    "uni_cnt = Counter(dataset['train']['speaker_id'])\n",
    "len(uni_cnt)"
   ]
  },
  {
   "cell_type": "code",
   "execution_count": 37,
   "metadata": {},
   "outputs": [
    {
     "name": "stderr",
     "output_type": "stream",
     "text": [
      "Map: 100%|██████████| 8328/8328 [00:00<00:00, 20256.26 examples/s]s]\n",
      "Creating parquet from Arrow format: 100%|██████████| 84/84 [00:00<00:00, 255.36ba/s]\n",
      "Map: 100%|██████████| 8327/8327 [00:00<00:00, 15604.32 examples/s] 1.49s/it]\n",
      "Creating parquet from Arrow format: 100%|██████████| 84/84 [00:00<00:00, 245.03ba/s]\n",
      "Map: 100%|██████████| 8327/8327 [00:01<00:00, 6345.35 examples/s] 24.24s/it]\n",
      "Creating parquet from Arrow format: 100%|██████████| 84/84 [00:00<00:00, 252.15ba/s]\n",
      "Map: 100%|██████████| 8327/8327 [00:01<00:00, 6652.62 examples/s] 28.72s/it]\n",
      "Creating parquet from Arrow format: 100%|██████████| 84/84 [00:00<00:00, 288.72ba/s]\n",
      "Map: 100%|██████████| 8327/8327 [00:01<00:00, 6411.71 examples/s] 32.08s/it]\n",
      "Creating parquet from Arrow format: 100%|██████████| 84/84 [00:00<00:00, 267.04ba/s]\n",
      "Map: 100%|██████████| 8327/8327 [00:01<00:00, 7496.32 examples/s] 32.07s/it]\n",
      "Creating parquet from Arrow format: 100%|██████████| 84/84 [00:00<00:00, 289.85ba/s]\n",
      "Map: 100%|██████████| 8327/8327 [00:01<00:00, 6285.85 examples/s] 31.40s/it]\n",
      "Creating parquet from Arrow format: 100%|██████████| 84/84 [00:00<00:00, 288.85ba/s]\n",
      "Map: 100%|██████████| 8327/8327 [00:01<00:00, 7818.65 examples/s] 30.46s/it]\n",
      "Creating parquet from Arrow format: 100%|██████████| 84/84 [00:00<00:00, 305.52ba/s]\n",
      "Map: 100%|██████████| 8327/8327 [00:01<00:00, 6699.59 examples/s] 30.30s/it]\n",
      "Creating parquet from Arrow format: 100%|██████████| 84/84 [00:00<00:00, 288.51ba/s]\n",
      "Map: 100%|██████████| 8327/8327 [00:01<00:00, 7166.76 examples/s] 30.48s/it]\n",
      "Creating parquet from Arrow format: 100%|██████████| 84/84 [00:00<00:00, 294.76ba/s]\n",
      "Map: 100%|██████████| 8327/8327 [00:01<00:00, 7737.28 examples/s], 30.73s/it]\n",
      "Creating parquet from Arrow format: 100%|██████████| 84/84 [00:00<00:00, 334.32ba/s]\n",
      "Map: 100%|██████████| 8327/8327 [00:01<00:00, 7455.43 examples/s], 29.40s/it]\n",
      "Creating parquet from Arrow format: 100%|██████████| 84/84 [00:00<00:00, 310.83ba/s]\n",
      "Uploading the dataset shards: 100%|██████████| 12/12 [05:58<00:00, 29.87s/it]\n",
      "Map: 100%|██████████| 3843/3843 [00:00<00:00, 6263.04 examples/s]s]\n",
      "Creating parquet from Arrow format: 100%|██████████| 39/39 [00:00<00:00, 224.94ba/s]\n",
      "Uploading the dataset shards: 100%|██████████| 1/1 [00:23<00:00, 23.17s/it]\n"
     ]
    },
    {
     "data": {
      "text/plain": [
       "CommitInfo(commit_url='https://huggingface.co/datasets/RutwikShete/hindi_dataset/commit/f63f15d72fcdbf12ea39a5ba0f04ddc044abb565', commit_message='Upload dataset', commit_description='', oid='f63f15d72fcdbf12ea39a5ba0f04ddc044abb565', pr_url=None, pr_revision=None, pr_num=None)"
      ]
     },
     "execution_count": 37,
     "metadata": {},
     "output_type": "execute_result"
    }
   ],
   "source": [
    "dataset.push_to_hub(\"RutwikShete/hindi_dataset\")"
   ]
  },
  {
   "cell_type": "code",
   "execution_count": 36,
   "metadata": {},
   "outputs": [
    {
     "data": {
      "text/plain": [
       "DatasetDict({\n",
       "    train: Dataset({\n",
       "        features: ['file_name', 'text_id', 'speaker_id', 'transcription', 'audio', 'gender', 'accent'],\n",
       "        num_rows: 99925\n",
       "    })\n",
       "    test: Dataset({\n",
       "        features: ['file_name', 'text_id', 'speaker_id', 'transcription', 'audio', 'gender', 'accent'],\n",
       "        num_rows: 3843\n",
       "    })\n",
       "})"
      ]
     },
     "execution_count": 36,
     "metadata": {},
     "output_type": "execute_result"
    }
   ],
   "source": [
    "dataset"
   ]
  },
  {
   "cell_type": "code",
   "execution_count": null,
   "metadata": {},
   "outputs": [],
   "source": []
  }
 ],
 "metadata": {
  "kernelspec": {
   "display_name": "tts",
   "language": "python",
   "name": "python3"
  },
  "language_info": {
   "codemirror_mode": {
    "name": "ipython",
    "version": 3
   },
   "file_extension": ".py",
   "mimetype": "text/x-python",
   "name": "python",
   "nbconvert_exporter": "python",
   "pygments_lexer": "ipython3",
   "version": "3.9.19"
  }
 },
 "nbformat": 4,
 "nbformat_minor": 2
}
