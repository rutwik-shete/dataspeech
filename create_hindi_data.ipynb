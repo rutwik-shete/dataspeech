{
 "cells": [
  {
   "cell_type": "code",
   "execution_count": 17,
   "metadata": {},
   "outputs": [],
   "source": [
    "from datasets import load_dataset,Audio\n",
    "\n",
    "import pandas as pd\n",
    "import numpy as np"
   ]
  },
  {
   "cell_type": "code",
   "execution_count": 35,
   "metadata": {},
   "outputs": [],
   "source": [
    "import pandas as pd\n",
    "\n",
    "# For Test\n",
    "file_path = '/Users/rutwikshete/Desktop/Codeing/TeeOff/POC/HindiDataset/test/transcription.txt'  # Replace with your actual file path\n",
    "save_path = '/Users/rutwikshete/Desktop/Codeing/TeeOff/POC/HindiDataset/test/audio/metadata.csv'\n",
    "prefix = \"/Users/rutwikshete/Desktop/Codeing/TeeOff/POC/HindiDataset/test/audio/\"\n",
    "\n",
    "# For Train\n",
    "# file_path = '/Users/rutwikshete/Desktop/Codeing/TeeOff/POC/HindiDataset/train/transcription.txt'  # Replace with your actual file path\n",
    "# save_path = '/Users/rutwikshete/Desktop/Codeing/TeeOff/POC/HindiDataset/train/audio/metadata.csv'\n",
    "# prefix = \"/Users/rutwikshete/Desktop/Codeing/TeeOff/POC/HindiDataset/train/audio/\"\n",
    "\n",
    "with open(file_path, 'r', encoding='utf-8') as file:\n",
    "    lines = file.readlines()\n",
    "\n",
    "# Step 2: Process each line and split into ID and text\n",
    "data = []\n",
    "for line in lines:\n",
    "    # Strip leading/trailing whitespace\n",
    "    line = line.strip()\n",
    "    \n",
    "    # Split each line at the first space\n",
    "    id_, text = line.split(' ', 1)  # Splits into id and rest of the text\n",
    "    text_id,speaker_id = id_.split(\"_\")\n",
    "    # Append to the data list\n",
    "    data.append([prefix+id_+\".wav\",text_id,speaker_id, text])\n",
    "\n",
    "# Step 3: Create a DataFrame\n",
    "df = pd.DataFrame(data, columns=['file_name','text_id','speaker_id', 'transcription'])\n",
    "\n",
    "# Step 4: Show the DataFrame\n",
    "\n",
    "df.to_csv(save_path,index=False)"
   ]
  },
  {
   "cell_type": "markdown",
   "metadata": {},
   "source": [
    "## Loading the Audio Dataset"
   ]
  },
  {
   "cell_type": "code",
   "execution_count": 36,
   "metadata": {},
   "outputs": [
    {
     "name": "stderr",
     "output_type": "stream",
     "text": [
      "Generating train split: 99925 examples [00:00, 545695.31 examples/s]\n",
      "Generating test split: 3843 examples [00:00, 348151.33 examples/s]\n",
      "Map: 100%|██████████| 99925/99925 [00:02<00:00, 45274.51 examples/s]\n",
      "Map: 100%|██████████| 3843/3843 [00:00<00:00, 47692.44 examples/s]\n"
     ]
    }
   ],
   "source": [
    "hindi_dataset = load_dataset(\"csv\",data_files={\n",
    "    'train': '/Users/rutwikshete/Desktop/Codeing/TeeOff/POC/HindiDataset/train/audio/metadata.csv',\n",
    "    'test' : '/Users/rutwikshete/Desktop/Codeing/TeeOff/POC/HindiDataset/test/audio/metadata.csv'\n",
    "})\n",
    "\n",
    "hindi_dataset = hindi_dataset.map(lambda batch: {'audio': batch['file_name']}, batched=False)\n",
    "\n",
    "# Step 3: Cast the new 'audio' column to the Audio feature type\n",
    "hindi_dataset = hindi_dataset.cast_column('audio', Audio())"
   ]
  },
  {
   "cell_type": "code",
   "execution_count": 39,
   "metadata": {},
   "outputs": [
    {
     "name": "stderr",
     "output_type": "stream",
     "text": [
      "Map: 100%|██████████| 9993/9993 [00:03<00:00, 3092.25 examples/s]/s]\n",
      "Creating parquet from Arrow format: 100%|██████████| 100/100 [00:00<00:00, 274.56ba/s]\n",
      "Map: 100%|██████████| 9993/9993 [00:02<00:00, 3359.31 examples/s] 43.50s/it]\n",
      "Creating parquet from Arrow format: 100%|██████████| 100/100 [00:00<00:00, 262.39ba/s]\n",
      "Map: 100%|██████████| 9993/9993 [00:02<00:00, 3665.52 examples/s] 43.24s/it]\n",
      "Creating parquet from Arrow format: 100%|██████████| 100/100 [00:00<00:00, 294.23ba/s]\n",
      "Map: 100%|██████████| 9993/9993 [00:02<00:00, 3990.84 examples/s] 41.62s/it]\n",
      "Creating parquet from Arrow format: 100%|██████████| 100/100 [00:00<00:00, 302.05ba/s]\n",
      "Map: 100%|██████████| 9993/9993 [00:02<00:00, 4260.97 examples/s] 40.49s/it]\n",
      "Creating parquet from Arrow format: 100%|██████████| 100/100 [00:00<00:00, 295.77ba/s]\n",
      "Map: 100%|██████████| 9992/9992 [00:02<00:00, 4269.87 examples/s] 38.56s/it]\n",
      "Creating parquet from Arrow format: 100%|██████████| 100/100 [00:00<00:00, 303.08ba/s]\n",
      "Map: 100%|██████████| 9992/9992 [00:02<00:00, 4255.62 examples/s] 37.36s/it]\n",
      "Creating parquet from Arrow format: 100%|██████████| 100/100 [00:00<00:00, 318.38ba/s]\n",
      "Map: 100%|██████████| 9992/9992 [00:02<00:00, 4115.05 examples/s] 37.02s/it]\n",
      "Creating parquet from Arrow format: 100%|██████████| 100/100 [00:00<00:00, 322.52ba/s]\n",
      "Map: 100%|██████████| 9992/9992 [00:02<00:00, 4327.60 examples/s] 36.89s/it]\n",
      "Creating parquet from Arrow format: 100%|██████████| 100/100 [00:00<00:00, 358.06ba/s]\n",
      "Map: 100%|██████████| 9992/9992 [00:02<00:00, 4285.38 examples/s] 34.62s/it]\n",
      "Creating parquet from Arrow format: 100%|██████████| 100/100 [00:00<00:00, 362.06ba/s]\n",
      "Uploading the dataset shards: 100%|██████████| 10/10 [06:06<00:00, 36.68s/it]\n",
      "Map: 100%|██████████| 3843/3843 [00:01<00:00, 3588.78 examples/s]s]\n",
      "Creating parquet from Arrow format: 100%|██████████| 39/39 [00:00<00:00, 239.30ba/s]\n",
      "Uploading the dataset shards: 100%|██████████| 1/1 [00:18<00:00, 18.91s/it]\n"
     ]
    },
    {
     "data": {
      "text/plain": [
       "CommitInfo(commit_url='https://huggingface.co/datasets/RutwikShete/hindi_dataset/commit/882441677ed35565af5b68dcecd958cabfed7cf4', commit_message='Upload dataset', commit_description='', oid='882441677ed35565af5b68dcecd958cabfed7cf4', pr_url=None, pr_revision=None, pr_num=None)"
      ]
     },
     "execution_count": 39,
     "metadata": {},
     "output_type": "execute_result"
    }
   ],
   "source": [
    "hindi_dataset.push_to_hub(\"RutwikShete/hindi_dataset\")"
   ]
  },
  {
   "cell_type": "code",
   "execution_count": 13,
   "metadata": {},
   "outputs": [
    {
     "name": "stderr",
     "output_type": "stream",
     "text": [
      "Map: 100%|██████████| 9/9 [00:00<00:00, 1191.41 examples/s], ?it/s]\n",
      "Creating parquet from Arrow format: 100%|██████████| 1/1 [00:00<00:00, 324.26ba/s]\n",
      "Uploading the dataset shards: 100%|██████████| 1/1 [00:02<00:00,  2.83s/it]\n",
      "Map: 100%|██████████| 3/3 [00:00<00:00, 430.05 examples/s]?, ?it/s]\n",
      "Creating parquet from Arrow format: 100%|██████████| 1/1 [00:00<00:00, 599.53ba/s]\n",
      "Uploading the dataset shards: 100%|██████████| 1/1 [00:01<00:00,  1.90s/it]\n"
     ]
    },
    {
     "data": {
      "text/plain": [
       "CommitInfo(commit_url='https://huggingface.co/datasets/RutwikShete/hindi_dataset_small/commit/e575f8938672906b4f7f6cd1f53245e8fbfcfdfb', commit_message='Upload dataset', commit_description='', oid='e575f8938672906b4f7f6cd1f53245e8fbfcfdfb', pr_url=None, pr_revision=None, pr_num=None)"
      ]
     },
     "execution_count": 13,
     "metadata": {},
     "output_type": "execute_result"
    }
   ],
   "source": [
    "from datasets import load_dataset,Audio,DatasetDict\n",
    "\n",
    "hindi_dataset = load_dataset(\"csv\",data_files={\n",
    "    'train': '/Users/rutwikshete/Desktop/Codeing/TeeOff/POC/HindiDataset/train/audio/metadata.csv',\n",
    "    'test' : '/Users/rutwikshete/Desktop/Codeing/TeeOff/POC/HindiDataset/test/audio/metadata.csv'\n",
    "})\n",
    "\n",
    "hindi_dataset = hindi_dataset.map(lambda batch: {'audio': batch['file_name']}, batched=False)\n",
    "\n",
    "# Step 3: Cast the new 'audio' column to the Audio feature type\n",
    "hindi_dataset = hindi_dataset.cast_column('audio', Audio())\n",
    "\n",
    "train_subset = hindi_dataset['train'].select(range(int(0.0001 * len(hindi_dataset['train']))))\n",
    "test_subset = hindi_dataset['test'].select(range(int(0.001 * len(hindi_dataset['test']))))\n",
    "\n",
    "small_dataset = {\n",
    "    'train' : train_subset,\n",
    "    'test' : test_subset\n",
    "}\n",
    "\n",
    "small_dataset = DatasetDict(small_dataset)\n",
    "\n",
    "small_dataset.push_to_hub(\"RutwikShete/hindi_dataset_small\")"
   ]
  },
  {
   "cell_type": "code",
   "execution_count": 12,
   "metadata": {},
   "outputs": [
    {
     "data": {
      "text/plain": [
       "9"
      ]
     },
     "execution_count": 12,
     "metadata": {},
     "output_type": "execute_result"
    }
   ],
   "source": [
    "len(train_subset)"
   ]
  },
  {
   "cell_type": "code",
   "execution_count": 32,
   "metadata": {},
   "outputs": [
    {
     "name": "stderr",
     "output_type": "stream",
     "text": [
      "Map: 100%|██████████| 99925/99925 [00:08<00:00, 11910.30 examples/s]\n",
      "Map: 100%|██████████| 3843/3843 [00:00<00:00, 11397.24 examples/s]\n"
     ]
    }
   ],
   "source": [
    "from datasets import load_dataset\n",
    "\n",
    "# Step 1: Load the dataset (replace 'your_dataset' with the actual dataset)\n",
    "dataset = load_dataset('RutwikShete/hindi_dataset')\n",
    "\n",
    "# Step 2: Define a function to create the 'accent' column\n",
    "def add_accent_column(example):\n",
    "    # Combine 'gender' and 'speaker_id' into a new column 'accent'\n",
    "    example['accent'] = f\"Accent_{example['speaker_id']}\"\n",
    "    # example['accent'] = f\"_{example['speaker_id']}\"\n",
    "    return example\n",
    "\n",
    "# Step 3: Apply the function to the dataset using map()\n",
    "dataset = dataset.map(add_accent_column)"
   ]
  },
  {
   "cell_type": "code",
   "execution_count": 33,
   "metadata": {},
   "outputs": [
    {
     "data": {
      "text/plain": [
       "59"
      ]
     },
     "execution_count": 33,
     "metadata": {},
     "output_type": "execute_result"
    }
   ],
   "source": [
    "from collections import Counter\n",
    "\n",
    "uni_cnt = Counter(dataset['train']['accent'])\n",
    "\n",
    "len(uni_cnt)"
   ]
  },
  {
   "cell_type": "code",
   "execution_count": 34,
   "metadata": {},
   "outputs": [
    {
     "data": {
      "text/plain": [
       "59"
      ]
     },
     "execution_count": 34,
     "metadata": {},
     "output_type": "execute_result"
    }
   ],
   "source": [
    "uni_cnt = Counter(dataset['train']['speaker_id'])\n",
    "len(uni_cnt)"
   ]
  },
  {
   "cell_type": "code",
   "execution_count": 37,
   "metadata": {},
   "outputs": [
    {
     "name": "stderr",
     "output_type": "stream",
     "text": [
      "Map: 100%|██████████| 8328/8328 [00:00<00:00, 20256.26 examples/s]s]\n",
      "Creating parquet from Arrow format: 100%|██████████| 84/84 [00:00<00:00, 255.36ba/s]\n",
      "Map: 100%|██████████| 8327/8327 [00:00<00:00, 15604.32 examples/s] 1.49s/it]\n",
      "Creating parquet from Arrow format: 100%|██████████| 84/84 [00:00<00:00, 245.03ba/s]\n",
      "Map: 100%|██████████| 8327/8327 [00:01<00:00, 6345.35 examples/s] 24.24s/it]\n",
      "Creating parquet from Arrow format: 100%|██████████| 84/84 [00:00<00:00, 252.15ba/s]\n",
      "Map: 100%|██████████| 8327/8327 [00:01<00:00, 6652.62 examples/s] 28.72s/it]\n",
      "Creating parquet from Arrow format: 100%|██████████| 84/84 [00:00<00:00, 288.72ba/s]\n",
      "Map: 100%|██████████| 8327/8327 [00:01<00:00, 6411.71 examples/s] 32.08s/it]\n",
      "Creating parquet from Arrow format: 100%|██████████| 84/84 [00:00<00:00, 267.04ba/s]\n",
      "Map: 100%|██████████| 8327/8327 [00:01<00:00, 7496.32 examples/s] 32.07s/it]\n",
      "Creating parquet from Arrow format: 100%|██████████| 84/84 [00:00<00:00, 289.85ba/s]\n",
      "Map: 100%|██████████| 8327/8327 [00:01<00:00, 6285.85 examples/s] 31.40s/it]\n",
      "Creating parquet from Arrow format: 100%|██████████| 84/84 [00:00<00:00, 288.85ba/s]\n",
      "Map: 100%|██████████| 8327/8327 [00:01<00:00, 7818.65 examples/s] 30.46s/it]\n",
      "Creating parquet from Arrow format: 100%|██████████| 84/84 [00:00<00:00, 305.52ba/s]\n",
      "Map: 100%|██████████| 8327/8327 [00:01<00:00, 6699.59 examples/s] 30.30s/it]\n",
      "Creating parquet from Arrow format: 100%|██████████| 84/84 [00:00<00:00, 288.51ba/s]\n",
      "Map: 100%|██████████| 8327/8327 [00:01<00:00, 7166.76 examples/s] 30.48s/it]\n",
      "Creating parquet from Arrow format: 100%|██████████| 84/84 [00:00<00:00, 294.76ba/s]\n",
      "Map: 100%|██████████| 8327/8327 [00:01<00:00, 7737.28 examples/s], 30.73s/it]\n",
      "Creating parquet from Arrow format: 100%|██████████| 84/84 [00:00<00:00, 334.32ba/s]\n",
      "Map: 100%|██████████| 8327/8327 [00:01<00:00, 7455.43 examples/s], 29.40s/it]\n",
      "Creating parquet from Arrow format: 100%|██████████| 84/84 [00:00<00:00, 310.83ba/s]\n",
      "Uploading the dataset shards: 100%|██████████| 12/12 [05:58<00:00, 29.87s/it]\n",
      "Map: 100%|██████████| 3843/3843 [00:00<00:00, 6263.04 examples/s]s]\n",
      "Creating parquet from Arrow format: 100%|██████████| 39/39 [00:00<00:00, 224.94ba/s]\n",
      "Uploading the dataset shards: 100%|██████████| 1/1 [00:23<00:00, 23.17s/it]\n"
     ]
    },
    {
     "data": {
      "text/plain": [
       "CommitInfo(commit_url='https://huggingface.co/datasets/RutwikShete/hindi_dataset/commit/f63f15d72fcdbf12ea39a5ba0f04ddc044abb565', commit_message='Upload dataset', commit_description='', oid='f63f15d72fcdbf12ea39a5ba0f04ddc044abb565', pr_url=None, pr_revision=None, pr_num=None)"
      ]
     },
     "execution_count": 37,
     "metadata": {},
     "output_type": "execute_result"
    }
   ],
   "source": [
    "dataset.push_to_hub(\"RutwikShete/hindi_dataset\")"
   ]
  },
  {
   "cell_type": "code",
   "execution_count": 36,
   "metadata": {},
   "outputs": [
    {
     "data": {
      "text/plain": [
       "DatasetDict({\n",
       "    train: Dataset({\n",
       "        features: ['file_name', 'text_id', 'speaker_id', 'transcription', 'audio', 'gender', 'accent'],\n",
       "        num_rows: 99925\n",
       "    })\n",
       "    test: Dataset({\n",
       "        features: ['file_name', 'text_id', 'speaker_id', 'transcription', 'audio', 'gender', 'accent'],\n",
       "        num_rows: 3843\n",
       "    })\n",
       "})"
      ]
     },
     "execution_count": 36,
     "metadata": {},
     "output_type": "execute_result"
    }
   ],
   "source": [
    "dataset"
   ]
  },
  {
   "cell_type": "code",
   "execution_count": 1,
   "metadata": {},
   "outputs": [
    {
     "name": "stderr",
     "output_type": "stream",
     "text": [
      "/opt/homebrew/Caskroom/miniconda/base/envs/tts/lib/python3.9/site-packages/tqdm/auto.py:21: TqdmWarning: IProgress not found. Please update jupyter and ipywidgets. See https://ipywidgets.readthedocs.io/en/stable/user_install.html\n",
      "  from .autonotebook import tqdm as notebook_tqdm\n",
      "Downloading readme: 100%|██████████| 614/614 [00:00<00:00, 2.36kB/s]\n",
      "Downloading data: 100%|██████████| 453M/453M [00:30<00:00, 15.0MB/s] \n",
      "Downloading data: 100%|██████████| 511M/511M [00:32<00:00, 15.8MB/s] \n",
      "Downloading data: 100%|██████████| 475M/475M [00:28<00:00, 16.7MB/s] \n",
      "Downloading data: 100%|██████████| 480M/480M [00:31<00:00, 15.3MB/s] \n",
      "Downloading data: 100%|██████████| 438M/438M [00:33<00:00, 13.1MB/s] \n",
      "Downloading data: 100%|██████████| 416M/416M [00:33<00:00, 12.5MB/s] \n",
      "Downloading data: 100%|██████████| 410M/410M [00:29<00:00, 13.8MB/s] \n",
      "Downloading data: 100%|██████████| 393M/393M [00:29<00:00, 13.3MB/s] \n",
      "Downloading data: 100%|██████████| 422M/422M [00:28<00:00, 15.0MB/s] \n",
      "Downloading data: 100%|██████████| 445M/445M [00:29<00:00, 15.1MB/s] \n",
      "Downloading data: 100%|██████████| 364M/364M [00:26<00:00, 13.8MB/s] \n",
      "Downloading data: 100%|██████████| 435M/435M [00:30<00:00, 14.3MB/s] \n",
      "Downloading data: 100%|██████████| 307M/307M [00:22<00:00, 13.9MB/s] \n",
      "Generating train split: 100%|██████████| 99925/99925 [00:05<00:00, 19548.33 examples/s]\n",
      "Generating test split: 100%|██████████| 3843/3843 [00:00<00:00, 14432.84 examples/s]\n"
     ]
    }
   ],
   "source": [
    "from datasets import load_dataset\n",
    "\n",
    "dataset = load_dataset(\"RutwikShete/hindi_dataset\")"
   ]
  },
  {
   "cell_type": "code",
   "execution_count": 2,
   "metadata": {},
   "outputs": [
    {
     "data": {
      "text/plain": [
       "DatasetDict({\n",
       "    train: Dataset({\n",
       "        features: ['file_name', 'text_id', 'speaker_id', 'transcription', 'audio', 'gender', 'accent'],\n",
       "        num_rows: 99925\n",
       "    })\n",
       "    test: Dataset({\n",
       "        features: ['file_name', 'text_id', 'speaker_id', 'transcription', 'audio', 'gender', 'accent'],\n",
       "        num_rows: 3843\n",
       "    })\n",
       "})"
      ]
     },
     "execution_count": 2,
     "metadata": {},
     "output_type": "execute_result"
    }
   ],
   "source": [
    "dataset"
   ]
  },
  {
   "cell_type": "code",
   "execution_count": 3,
   "metadata": {},
   "outputs": [
    {
     "name": "stdout",
     "output_type": "stream",
     "text": [
      "1\n",
      "2\n",
      "4\n",
      "5\n",
      "6\n",
      "9\n",
      "12\n",
      "13\n",
      "14\n",
      "15\n",
      "16\n",
      "18\n",
      "19\n",
      "24\n",
      "26\n",
      "27\n",
      "30\n",
      "32\n",
      "33\n",
      "34\n",
      "35\n",
      "37\n",
      "38\n",
      "39\n",
      "42\n",
      "43\n",
      "44\n",
      "45\n",
      "46\n",
      "47\n",
      "48\n",
      "50\n",
      "51\n",
      "55\n",
      "56\n",
      "57\n",
      "58\n",
      "60\n",
      "63\n",
      "64\n",
      "65\n",
      "67\n",
      "68\n",
      "70\n",
      "72\n",
      "73\n",
      "74\n",
      "76\n",
      "77\n",
      "78\n",
      "79\n",
      "80\n",
      "82\n",
      "91\n",
      "92\n",
      "93\n",
      "94\n",
      "95\n",
      "97\n"
     ]
    }
   ],
   "source": [
    "# Extract the 'speaker_id' column from the train split\n",
    "speaker_ids = dataset['train']['speaker_id']\n",
    "\n",
    "# Get unique speaker_ids\n",
    "unique_speaker_ids = set(speaker_ids)\n",
    "\n",
    "# Print all unique speaker_ids\n",
    "for speaker_id in unique_speaker_ids:\n",
    "    print(speaker_id)"
   ]
  },
  {
   "cell_type": "code",
   "execution_count": 4,
   "metadata": {},
   "outputs": [
    {
     "name": "stdout",
     "output_type": "stream",
     "text": [
      "3\n",
      "8\n",
      "11\n",
      "20\n",
      "25\n",
      "28\n",
      "29\n",
      "36\n",
      "52\n",
      "61\n",
      "62\n",
      "66\n",
      "69\n",
      "86\n",
      "87\n",
      "88\n",
      "89\n",
      "96\n",
      "98\n"
     ]
    }
   ],
   "source": [
    "# Extract the 'speaker_id' column from the train split\n",
    "speaker_ids = dataset['test']['speaker_id']\n",
    "\n",
    "# Get unique speaker_ids\n",
    "unique_speaker_ids = set(speaker_ids)\n",
    "\n",
    "# Print all unique speaker_ids\n",
    "for speaker_id in unique_speaker_ids:\n",
    "    print(speaker_id)"
   ]
  },
  {
   "cell_type": "code",
   "execution_count": 17,
   "metadata": {},
   "outputs": [
    {
     "name": "stdout",
     "output_type": "stream",
     "text": [
      "{'file_name': Value(dtype='string', id=None), 'text_id': Value(dtype='int64', id=None), 'speaker_id': Value(dtype='int64', id=None), 'transcription': Value(dtype='string', id=None), 'audio': Audio(sampling_rate=None, mono=True, decode=True, id=None), 'gender': Value(dtype='string', id=None), 'accent': Value(dtype='string', id=None)}\n",
      "['file_name', 'text_id', 'speaker_id', 'transcription', 'audio', 'gender', 'accent']\n",
      "Dataset({\n",
      "    features: ['file_name', 'text_id', 'speaker_id', 'transcription', 'audio', 'gender', 'accent'],\n",
      "    num_rows: 5\n",
      "})\n"
     ]
    },
    {
     "name": "stderr",
     "output_type": "stream",
     "text": [
      "Map: 100%|██████████| 99925/99925 [00:13<00:00, 7140.30 examples/s] \n",
      "Map: 100%|██████████| 3843/3843 [00:00<00:00, 8347.58 examples/s]"
     ]
    },
    {
     "name": "stdout",
     "output_type": "stream",
     "text": [
      "Dataset({\n",
      "    features: ['file_name', 'text_id', 'speaker_id', 'transcription', 'audio', 'gender', 'accent'],\n",
      "    num_rows: 5\n",
      "})\n"
     ]
    },
    {
     "name": "stderr",
     "output_type": "stream",
     "text": [
      "\n"
     ]
    }
   ],
   "source": [
    "from datasets import load_dataset\n",
    "\n",
    "# Step 2: Inspect the dataset (optional)\n",
    "print(dataset['train'].features)  # Print the feature names to verify columns\n",
    "print(dataset['train'].column_names)  # Print the column names\n",
    "print(dataset['train'].select(range(5)))  # Print the first 5 entries\n",
    "\n",
    "# Step 3: Create a mapping for corrected values\n",
    "# Example mapping: {speaker_id: correct_gender}\n",
    "\n",
    "corrections = {\n",
    "    1: \"female\",\n",
    "    2: \"male\",\n",
    "    3: \"male\",\n",
    "    4: \"female\",\n",
    "    5: \"male\",\n",
    "    6: \"male\",\n",
    "    8: \"male\",  # Added missing 8\n",
    "    9: \"male\",\n",
    "    11: \"female\",  # Added missing 11\n",
    "    12: \"male\",\n",
    "    13: \"male\",\n",
    "    14: \"male\",\n",
    "    15: \"male\",\n",
    "    16: \"male\",\n",
    "    18: \"male\",\n",
    "    19: \"male\",\n",
    "    20: \"male\",  # Added missing 20\n",
    "    24: \"male\",\n",
    "    25: \"male\",  # Added missing 25\n",
    "    26: \"male\",\n",
    "    27: \"male\",\n",
    "    28: \"female\",  # Added missing 28\n",
    "    29: \"male\",  # Added missing 29\n",
    "    30: \"male\",\n",
    "    32: \"male\",\n",
    "    33: \"male\",\n",
    "    34: \"male\",\n",
    "    35: \"male\",\n",
    "    36: \"male\",  # Added missing 36\n",
    "    37: \"male\",\n",
    "    38: \"male\",\n",
    "    39: \"male\",\n",
    "    42: \"male\",\n",
    "    43: \"female\",\n",
    "    44: \"male\",\n",
    "    45: \"male\",\n",
    "    46: \"male\",\n",
    "    47: \"male\",\n",
    "    48: \"male\",\n",
    "    50: \"female\",\n",
    "    51: \"female\",\n",
    "    52: \"male\",  # Added missing 52\n",
    "    55: \"male\",\n",
    "    56: \"male\",\n",
    "    57: \"male\",\n",
    "    58: \"male\",\n",
    "    60: \"male\",\n",
    "    61: \"female\",  # Added missing 61\n",
    "    62: \"male\",  # Added missing 62\n",
    "    63: \"female\",\n",
    "    64: \"female\",\n",
    "    65: \"male\",\n",
    "    66: \"male\",  # Added missing 66\n",
    "    67: \"female\",\n",
    "    68: \"male\",\n",
    "    69: \"male\",  # Added missing 69\n",
    "    70: \"male\",\n",
    "    72: \"male\",\n",
    "    73: \"male\",\n",
    "    74: \"male\",\n",
    "    76: \"female\",\n",
    "    77: \"male\",\n",
    "    78: \"female\",\n",
    "    79: \"female\",\n",
    "    80: \"female\",\n",
    "    82: \"female\",\n",
    "    86: \"female\",  # Added missing 86\n",
    "    87: \"female\",  # Added missing 87\n",
    "    88: \"female\",  # Added missing 88\n",
    "    89: \"female\",  # Added missing 89\n",
    "    91: \"female\",\n",
    "    92: \"female\",\n",
    "    93: \"female\",\n",
    "    94: \"male\",\n",
    "    95: \"male\",\n",
    "    96: \"male\",  # Added missing 96\n",
    "    97: \"female\",\n",
    "    98: \"male\"   # Added missing 98\n",
    "}\n",
    "\n",
    "# Step 4: Define a function to apply the corrections\n",
    "def correct_gender(example):\n",
    "    speaker_id = example['speaker_id']\n",
    "    if speaker_id in corrections:\n",
    "        example['gender'] = corrections[speaker_id]\n",
    "    return example\n",
    "\n",
    "# Apply the function to the dataset\n",
    "dataset_with_gender = dataset.map(correct_gender)\n",
    "\n",
    "# Step 5: Verify the changes\n",
    "print(dataset['train'].select(range(5)))  # Print the first 5 entries to verify updates\n"
   ]
  },
  {
   "cell_type": "code",
   "execution_count": 19,
   "metadata": {},
   "outputs": [
    {
     "name": "stderr",
     "output_type": "stream",
     "text": [
      "Map: 100%|██████████| 8328/8328 [00:01<00:00, 8061.62 examples/s]/s]\n",
      "Creating parquet from Arrow format: 100%|██████████| 84/84 [00:00<00:00, 270.53ba/s]\n",
      "Map: 100%|██████████| 8327/8327 [00:01<00:00, 6178.41 examples/s] 93.52s/it]\n",
      "Creating parquet from Arrow format: 100%|██████████| 84/84 [00:00<00:00, 263.34ba/s]\n",
      "Map: 100%|██████████| 8327/8327 [00:01<00:00, 6650.28 examples/s] 94.94s/it]\n",
      "Creating parquet from Arrow format: 100%|██████████| 84/84 [00:00<00:00, 287.53ba/s]\n",
      "Map: 100%|██████████| 8327/8327 [00:01<00:00, 6897.17 examples/s] 94.05s/it]\n",
      "Creating parquet from Arrow format: 100%|██████████| 84/84 [00:00<00:00, 314.64ba/s]\n",
      "Map: 100%|██████████| 8327/8327 [00:01<00:00, 6827.18 examples/s] 91.60s/it]\n",
      "Creating parquet from Arrow format: 100%|██████████| 84/84 [00:00<00:00, 302.96ba/s]\n",
      "Map: 100%|██████████| 8327/8327 [00:01<00:00, 8235.41 examples/s] 87.74s/it]\n",
      "Creating parquet from Arrow format: 100%|██████████| 84/84 [00:00<00:00, 305.43ba/s]\n",
      "Map: 100%|██████████| 8327/8327 [00:01<00:00, 6994.09 examples/s] 82.32s/it]\n",
      "Creating parquet from Arrow format: 100%|██████████| 84/84 [00:00<00:00, 305.12ba/s]\n",
      "Map: 100%|██████████| 8327/8327 [00:01<00:00, 8311.43 examples/s] 78.50s/it]\n",
      "Creating parquet from Arrow format: 100%|██████████| 84/84 [00:00<00:00, 315.84ba/s]\n",
      "Map: 100%|██████████| 8327/8327 [00:01<00:00, 7176.85 examples/s] 75.03s/it]\n",
      "Creating parquet from Arrow format: 100%|██████████| 84/84 [00:00<00:00, 314.13ba/s]\n",
      "Map: 100%|██████████| 8327/8327 [00:01<00:00, 7344.90 examples/s] 74.43s/it]\n",
      "Creating parquet from Arrow format: 100%|██████████| 84/84 [00:00<00:00, 299.56ba/s]\n",
      "Map: 100%|██████████| 8327/8327 [00:01<00:00, 8108.56 examples/s], 74.84s/it]\n",
      "Creating parquet from Arrow format: 100%|██████████| 84/84 [00:00<00:00, 356.81ba/s]\n",
      "Map: 100%|██████████| 8327/8327 [00:01<00:00, 7916.86 examples/s], 70.93s/it]\n",
      "Creating parquet from Arrow format: 100%|██████████| 84/84 [00:00<00:00, 300.63ba/s]\n",
      "Uploading the dataset shards: 100%|██████████| 12/12 [15:48<00:00, 79.02s/it]\n",
      "Map: 100%|██████████| 3843/3843 [00:00<00:00, 6721.06 examples/s]s]\n",
      "Creating parquet from Arrow format: 100%|██████████| 39/39 [00:00<00:00, 231.55ba/s]\n",
      "Uploading the dataset shards: 100%|██████████| 1/1 [00:53<00:00, 53.55s/it]\n"
     ]
    },
    {
     "data": {
      "text/plain": [
       "CommitInfo(commit_url='https://huggingface.co/datasets/RutwikShete/hindi_dataset/commit/ef707e68e6713aa47dc72e9e47f99f117c50b52d', commit_message='Upload dataset', commit_description='', oid='ef707e68e6713aa47dc72e9e47f99f117c50b52d', pr_url=None, pr_revision=None, pr_num=None)"
      ]
     },
     "execution_count": 19,
     "metadata": {},
     "output_type": "execute_result"
    }
   ],
   "source": [
    "dataset_with_gender.push_to_hub(\"RutwikShete/hindi_dataset\")"
   ]
  },
  {
   "cell_type": "code",
   "execution_count": 18,
   "metadata": {},
   "outputs": [
    {
     "data": {
      "text/plain": [
       "{'file_name': '/Users/rutwikshete/Desktop/Codeing/TeeOff/POC/HindiDataset/train/audio/0001_030.wav',\n",
       " 'text_id': 1,\n",
       " 'speaker_id': 30,\n",
       " 'transcription': 'यह है मोटा राजा',\n",
       " 'audio': {'path': '0001_030.wav',\n",
       "  'array': array([0.00000000e+00, 0.00000000e+00, 3.05175781e-05, ...,\n",
       "         5.96923828e-02, 6.77795410e-02, 4.14428711e-02]),\n",
       "  'sampling_rate': 8000},\n",
       " 'gender': 'male',\n",
       " 'accent': 'Accent_30'}"
      ]
     },
     "execution_count": 18,
     "metadata": {},
     "output_type": "execute_result"
    }
   ],
   "source": [
    "dataset_with_gender['train'][0]"
   ]
  },
  {
   "cell_type": "code",
   "execution_count": null,
   "metadata": {},
   "outputs": [],
   "source": [
    "import pandas as pd\n",
    "df = pd.DataFrame(dataset['test'])  # Replace 'train' with the correct split if needed\n",
    "\n",
    "# Step 2: Get the unique speaker_ids\n",
    "unique_speaker_ids = df['speaker_id'].unique()\n",
    "\n",
    "# Step 3: Select one recording for each speaker_id\n",
    "for speaker_id in unique_speaker_ids:\n",
    "    # Filter the DataFrame to get the rows for the current speaker_id\n",
    "    speaker_data = df[df['speaker_id'] == speaker_id]\n",
    "    \n",
    "    if not speaker_data.empty:\n",
    "        # Step 4: Select the first audio recording for this speaker\n",
    "        audio_file_path = speaker_data.iloc[0]['file_name']  # Adjust if your audio column has a different name\n",
    "        \n",
    "        # Step 5: Play the audio recording\n",
    "        print(f\"Playing audio for Speaker ID: {speaker_id}\")\n",
    "        display(Audio(audio_file_path, autoplay=True))\n",
    "        \n",
    "        # Pause for user input to continue to the next speaker\n",
    "        input(\"Press Enter to play the next speaker's audio...\")"
   ]
  },
  {
   "cell_type": "code",
   "execution_count": null,
   "metadata": {},
   "outputs": [],
   "source": []
  }
 ],
 "metadata": {
  "kernelspec": {
   "display_name": "tts",
   "language": "python",
   "name": "python3"
  },
  "language_info": {
   "codemirror_mode": {
    "name": "ipython",
    "version": 3
   },
   "file_extension": ".py",
   "mimetype": "text/x-python",
   "name": "python",
   "nbconvert_exporter": "python",
   "pygments_lexer": "ipython3",
   "version": "3.9.19"
  }
 },
 "nbformat": 4,
 "nbformat_minor": 2
}
